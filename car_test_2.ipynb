{
 "cells": [
  {
   "cell_type": "code",
   "execution_count": 1,
   "metadata": {},
   "outputs": [],
   "source": [
    "import pickle\n",
    "\n",
    "with open('ohe_company.pkl','rb') as file:\n",
    "    ohe_company = pickle.load(file)\n",
    "\n",
    "with open('ohe_fuel_type.pkl','rb') as file:\n",
    "    ohe_fuel_type = pickle.load(file)\n",
    "\n",
    "with open('ohe_name.pkl','rb') as file:\n",
    "    ohe_name = pickle.load(file)\n",
    "\n",
    "with open('linear.pkl','rb') as file:\n",
    "    linear = pickle.load(file)\n",
    "\n",
    "with open('scaler.pkl','rb') as file:\n",
    "    scaler = pickle.load(file)\n",
    "\n"
   ]
  },
  {
   "cell_type": "code",
   "execution_count": 2,
   "metadata": {},
   "outputs": [],
   "source": [
    "\n",
    "import pandas as pd\n",
    "import numpy as np"
   ]
  },
  {
   "cell_type": "code",
   "execution_count": 10,
   "metadata": {},
   "outputs": [],
   "source": [
    "\n",
    "input_data = {\n",
    "    'name':'Hyundai Santro Xing',\n",
    "    'company':'Hyundai',\n",
    "    'year':2012,\n",
    "    'kms_driven':1000,\n",
    "    'fuel_type':'Petrol'\n",
    "}"
   ]
  },
  {
   "cell_type": "code",
   "execution_count": 11,
   "metadata": {},
   "outputs": [
    {
     "data": {
      "text/plain": [
       "{'name': 'Hyundai Santro Xing',\n",
       " 'company': 'Hyundai',\n",
       " 'year': 2012,\n",
       " 'kms_driven': 1000,\n",
       " 'fuel_type': 'Petrol'}"
      ]
     },
     "execution_count": 11,
     "metadata": {},
     "output_type": "execute_result"
    }
   ],
   "source": [
    "\n",
    "input_data"
   ]
  },
  {
   "cell_type": "code",
   "execution_count": 17,
   "metadata": {},
   "outputs": [
    {
     "name": "stderr",
     "output_type": "stream",
     "text": [
      "c:\\Users\\iamda\\OneDrive\\Desktop\\ProjectNorm\\venv\\lib\\site-packages\\sklearn\\utils\\validation.py:2739: UserWarning: X does not have valid feature names, but OneHotEncoder was fitted with feature names\n",
      "  warnings.warn(\n"
     ]
    },
    {
     "data": {
      "text/html": [
       "<div>\n",
       "<style scoped>\n",
       "    .dataframe tbody tr th:only-of-type {\n",
       "        vertical-align: middle;\n",
       "    }\n",
       "\n",
       "    .dataframe tbody tr th {\n",
       "        vertical-align: top;\n",
       "    }\n",
       "\n",
       "    .dataframe thead th {\n",
       "        text-align: right;\n",
       "    }\n",
       "</style>\n",
       "<table border=\"1\" class=\"dataframe\">\n",
       "  <thead>\n",
       "    <tr style=\"text-align: right;\">\n",
       "      <th></th>\n",
       "      <th>name_Audi A3 Cabriolet</th>\n",
       "      <th>name_Audi A4 1.8</th>\n",
       "      <th>name_Audi A4 2.0</th>\n",
       "      <th>name_Audi A6 2.0</th>\n",
       "      <th>name_Audi A8</th>\n",
       "      <th>name_Audi Q3 2.0</th>\n",
       "      <th>name_Audi Q5 2.0</th>\n",
       "      <th>name_Audi Q7</th>\n",
       "      <th>name_BMW 3 Series</th>\n",
       "      <th>name_BMW 5 Series</th>\n",
       "      <th>...</th>\n",
       "      <th>name_Volkswagen Passat Diesel</th>\n",
       "      <th>name_Volkswagen Polo</th>\n",
       "      <th>name_Volkswagen Polo Comfortline</th>\n",
       "      <th>name_Volkswagen Polo Highline</th>\n",
       "      <th>name_Volkswagen Polo Highline1.2L</th>\n",
       "      <th>name_Volkswagen Polo Trendline</th>\n",
       "      <th>name_Volkswagen Vento Comfortline</th>\n",
       "      <th>name_Volkswagen Vento Highline</th>\n",
       "      <th>name_Volkswagen Vento Konekt</th>\n",
       "      <th>name_Volvo S80 Summum</th>\n",
       "    </tr>\n",
       "  </thead>\n",
       "  <tbody>\n",
       "    <tr>\n",
       "      <th>0</th>\n",
       "      <td>0.0</td>\n",
       "      <td>0.0</td>\n",
       "      <td>0.0</td>\n",
       "      <td>0.0</td>\n",
       "      <td>0.0</td>\n",
       "      <td>0.0</td>\n",
       "      <td>0.0</td>\n",
       "      <td>0.0</td>\n",
       "      <td>0.0</td>\n",
       "      <td>0.0</td>\n",
       "      <td>...</td>\n",
       "      <td>0.0</td>\n",
       "      <td>0.0</td>\n",
       "      <td>0.0</td>\n",
       "      <td>0.0</td>\n",
       "      <td>0.0</td>\n",
       "      <td>0.0</td>\n",
       "      <td>0.0</td>\n",
       "      <td>0.0</td>\n",
       "      <td>0.0</td>\n",
       "      <td>0.0</td>\n",
       "    </tr>\n",
       "  </tbody>\n",
       "</table>\n",
       "<p>1 rows × 254 columns</p>\n",
       "</div>"
      ],
      "text/plain": [
       "   name_Audi A3 Cabriolet  name_Audi A4 1.8  name_Audi A4 2.0  \\\n",
       "0                     0.0               0.0               0.0   \n",
       "\n",
       "   name_Audi A6 2.0  name_Audi A8  name_Audi Q3 2.0  name_Audi Q5 2.0  \\\n",
       "0               0.0           0.0               0.0               0.0   \n",
       "\n",
       "   name_Audi Q7  name_BMW 3 Series  name_BMW 5 Series  ...  \\\n",
       "0           0.0                0.0                0.0  ...   \n",
       "\n",
       "   name_Volkswagen Passat Diesel  name_Volkswagen Polo  \\\n",
       "0                            0.0                   0.0   \n",
       "\n",
       "   name_Volkswagen Polo Comfortline  name_Volkswagen Polo Highline  \\\n",
       "0                               0.0                            0.0   \n",
       "\n",
       "   name_Volkswagen Polo Highline1.2L  name_Volkswagen Polo Trendline  \\\n",
       "0                                0.0                             0.0   \n",
       "\n",
       "   name_Volkswagen Vento Comfortline  name_Volkswagen Vento Highline  \\\n",
       "0                                0.0                             0.0   \n",
       "\n",
       "   name_Volkswagen Vento Konekt  name_Volvo S80 Summum  \n",
       "0                           0.0                    0.0  \n",
       "\n",
       "[1 rows x 254 columns]"
      ]
     },
     "execution_count": 17,
     "metadata": {},
     "output_type": "execute_result"
    }
   ],
   "source": [
    "\n",
    "ohe_name_un = ohe_name.transform([[input_data['name']]]).toarray()\n",
    "ohe_name_df = pd.DataFrame(ohe_name_un,columns=ohe_name.get_feature_names_out())\n",
    "ohe_name_df\n"
   ]
  },
  {
   "cell_type": "code",
   "execution_count": 18,
   "metadata": {},
   "outputs": [
    {
     "name": "stderr",
     "output_type": "stream",
     "text": [
      "c:\\Users\\iamda\\OneDrive\\Desktop\\ProjectNorm\\venv\\lib\\site-packages\\sklearn\\utils\\validation.py:2739: UserWarning: X does not have valid feature names, but OneHotEncoder was fitted with feature names\n",
      "  warnings.warn(\n"
     ]
    },
    {
     "data": {
      "text/html": [
       "<div>\n",
       "<style scoped>\n",
       "    .dataframe tbody tr th:only-of-type {\n",
       "        vertical-align: middle;\n",
       "    }\n",
       "\n",
       "    .dataframe tbody tr th {\n",
       "        vertical-align: top;\n",
       "    }\n",
       "\n",
       "    .dataframe thead th {\n",
       "        text-align: right;\n",
       "    }\n",
       "</style>\n",
       "<table border=\"1\" class=\"dataframe\">\n",
       "  <thead>\n",
       "    <tr style=\"text-align: right;\">\n",
       "      <th></th>\n",
       "      <th>name_Audi A3 Cabriolet</th>\n",
       "      <th>name_Audi A4 1.8</th>\n",
       "      <th>name_Audi A4 2.0</th>\n",
       "      <th>name_Audi A6 2.0</th>\n",
       "      <th>name_Audi A8</th>\n",
       "      <th>name_Audi Q3 2.0</th>\n",
       "      <th>name_Audi Q5 2.0</th>\n",
       "      <th>name_Audi Q7</th>\n",
       "      <th>name_BMW 3 Series</th>\n",
       "      <th>name_BMW 5 Series</th>\n",
       "      <th>...</th>\n",
       "      <th>name_Volkswagen Passat Diesel</th>\n",
       "      <th>name_Volkswagen Polo</th>\n",
       "      <th>name_Volkswagen Polo Comfortline</th>\n",
       "      <th>name_Volkswagen Polo Highline</th>\n",
       "      <th>name_Volkswagen Polo Highline1.2L</th>\n",
       "      <th>name_Volkswagen Polo Trendline</th>\n",
       "      <th>name_Volkswagen Vento Comfortline</th>\n",
       "      <th>name_Volkswagen Vento Highline</th>\n",
       "      <th>name_Volkswagen Vento Konekt</th>\n",
       "      <th>name_Volvo S80 Summum</th>\n",
       "    </tr>\n",
       "  </thead>\n",
       "  <tbody>\n",
       "    <tr>\n",
       "      <th>0</th>\n",
       "      <td>0.0</td>\n",
       "      <td>0.0</td>\n",
       "      <td>0.0</td>\n",
       "      <td>0.0</td>\n",
       "      <td>0.0</td>\n",
       "      <td>0.0</td>\n",
       "      <td>0.0</td>\n",
       "      <td>0.0</td>\n",
       "      <td>0.0</td>\n",
       "      <td>0.0</td>\n",
       "      <td>...</td>\n",
       "      <td>0.0</td>\n",
       "      <td>0.0</td>\n",
       "      <td>0.0</td>\n",
       "      <td>0.0</td>\n",
       "      <td>0.0</td>\n",
       "      <td>0.0</td>\n",
       "      <td>0.0</td>\n",
       "      <td>0.0</td>\n",
       "      <td>0.0</td>\n",
       "      <td>0.0</td>\n",
       "    </tr>\n",
       "  </tbody>\n",
       "</table>\n",
       "<p>1 rows × 254 columns</p>\n",
       "</div>"
      ],
      "text/plain": [
       "   name_Audi A3 Cabriolet  name_Audi A4 1.8  name_Audi A4 2.0  \\\n",
       "0                     0.0               0.0               0.0   \n",
       "\n",
       "   name_Audi A6 2.0  name_Audi A8  name_Audi Q3 2.0  name_Audi Q5 2.0  \\\n",
       "0               0.0           0.0               0.0               0.0   \n",
       "\n",
       "   name_Audi Q7  name_BMW 3 Series  name_BMW 5 Series  ...  \\\n",
       "0           0.0                0.0                0.0  ...   \n",
       "\n",
       "   name_Volkswagen Passat Diesel  name_Volkswagen Polo  \\\n",
       "0                            0.0                   0.0   \n",
       "\n",
       "   name_Volkswagen Polo Comfortline  name_Volkswagen Polo Highline  \\\n",
       "0                               0.0                            0.0   \n",
       "\n",
       "   name_Volkswagen Polo Highline1.2L  name_Volkswagen Polo Trendline  \\\n",
       "0                                0.0                             0.0   \n",
       "\n",
       "   name_Volkswagen Vento Comfortline  name_Volkswagen Vento Highline  \\\n",
       "0                                0.0                             0.0   \n",
       "\n",
       "   name_Volkswagen Vento Konekt  name_Volvo S80 Summum  \n",
       "0                           0.0                    0.0  \n",
       "\n",
       "[1 rows x 254 columns]"
      ]
     },
     "execution_count": 18,
     "metadata": {},
     "output_type": "execute_result"
    }
   ],
   "source": [
    "ohe_company_un = ohe_company.transform([[input_data['company']]]).toarray()\n",
    "ohe_company_df = pd.DataFrame(ohe_company_un,columns=ohe_company.get_feature_names_out())\n",
    "ohe_name_df"
   ]
  },
  {
   "cell_type": "code",
   "execution_count": 19,
   "metadata": {},
   "outputs": [
    {
     "name": "stderr",
     "output_type": "stream",
     "text": [
      "c:\\Users\\iamda\\OneDrive\\Desktop\\ProjectNorm\\venv\\lib\\site-packages\\sklearn\\utils\\validation.py:2739: UserWarning: X does not have valid feature names, but OneHotEncoder was fitted with feature names\n",
      "  warnings.warn(\n"
     ]
    },
    {
     "data": {
      "text/html": [
       "<div>\n",
       "<style scoped>\n",
       "    .dataframe tbody tr th:only-of-type {\n",
       "        vertical-align: middle;\n",
       "    }\n",
       "\n",
       "    .dataframe tbody tr th {\n",
       "        vertical-align: top;\n",
       "    }\n",
       "\n",
       "    .dataframe thead th {\n",
       "        text-align: right;\n",
       "    }\n",
       "</style>\n",
       "<table border=\"1\" class=\"dataframe\">\n",
       "  <thead>\n",
       "    <tr style=\"text-align: right;\">\n",
       "      <th></th>\n",
       "      <th>fuel_type_Diesel</th>\n",
       "      <th>fuel_type_LPG</th>\n",
       "      <th>fuel_type_Petrol</th>\n",
       "    </tr>\n",
       "  </thead>\n",
       "  <tbody>\n",
       "    <tr>\n",
       "      <th>0</th>\n",
       "      <td>0.0</td>\n",
       "      <td>0.0</td>\n",
       "      <td>1.0</td>\n",
       "    </tr>\n",
       "  </tbody>\n",
       "</table>\n",
       "</div>"
      ],
      "text/plain": [
       "   fuel_type_Diesel  fuel_type_LPG  fuel_type_Petrol\n",
       "0               0.0            0.0               1.0"
      ]
     },
     "execution_count": 19,
     "metadata": {},
     "output_type": "execute_result"
    }
   ],
   "source": [
    "\n",
    "ohe_fuel_type_un = ohe_fuel_type.transform([[input_data['fuel_type']]]).toarray()\n",
    "ohe_fuel_type_df = pd.DataFrame(ohe_fuel_type_un,columns=ohe_fuel_type.get_feature_names_out())\n",
    "ohe_fuel_type_df"
   ]
  },
  {
   "cell_type": "code",
   "execution_count": 22,
   "metadata": {},
   "outputs": [
    {
     "data": {
      "text/html": [
       "<div>\n",
       "<style scoped>\n",
       "    .dataframe tbody tr th:only-of-type {\n",
       "        vertical-align: middle;\n",
       "    }\n",
       "\n",
       "    .dataframe tbody tr th {\n",
       "        vertical-align: top;\n",
       "    }\n",
       "\n",
       "    .dataframe thead th {\n",
       "        text-align: right;\n",
       "    }\n",
       "</style>\n",
       "<table border=\"1\" class=\"dataframe\">\n",
       "  <thead>\n",
       "    <tr style=\"text-align: right;\">\n",
       "      <th></th>\n",
       "      <th>name</th>\n",
       "      <th>company</th>\n",
       "      <th>year</th>\n",
       "      <th>kms_driven</th>\n",
       "      <th>fuel_type</th>\n",
       "    </tr>\n",
       "  </thead>\n",
       "  <tbody>\n",
       "    <tr>\n",
       "      <th>0</th>\n",
       "      <td>Hyundai Santro Xing</td>\n",
       "      <td>Hyundai</td>\n",
       "      <td>2012</td>\n",
       "      <td>1000</td>\n",
       "      <td>Petrol</td>\n",
       "    </tr>\n",
       "  </tbody>\n",
       "</table>\n",
       "</div>"
      ],
      "text/plain": [
       "                  name  company  year  kms_driven fuel_type\n",
       "0  Hyundai Santro Xing  Hyundai  2012        1000    Petrol"
      ]
     },
     "execution_count": 22,
     "metadata": {},
     "output_type": "execute_result"
    }
   ],
   "source": [
    "\n",
    "input_df = pd.DataFrame([input_data])\n",
    "input_df"
   ]
  },
  {
   "cell_type": "code",
   "execution_count": 24,
   "metadata": {},
   "outputs": [
    {
     "data": {
      "text/html": [
       "<div>\n",
       "<style scoped>\n",
       "    .dataframe tbody tr th:only-of-type {\n",
       "        vertical-align: middle;\n",
       "    }\n",
       "\n",
       "    .dataframe tbody tr th {\n",
       "        vertical-align: top;\n",
       "    }\n",
       "\n",
       "    .dataframe thead th {\n",
       "        text-align: right;\n",
       "    }\n",
       "</style>\n",
       "<table border=\"1\" class=\"dataframe\">\n",
       "  <thead>\n",
       "    <tr style=\"text-align: right;\">\n",
       "      <th></th>\n",
       "      <th>year</th>\n",
       "      <th>kms_driven</th>\n",
       "      <th>company_Audi</th>\n",
       "      <th>company_BMW</th>\n",
       "      <th>company_Chevrolet</th>\n",
       "      <th>company_Datsun</th>\n",
       "      <th>company_Fiat</th>\n",
       "      <th>company_Force</th>\n",
       "      <th>company_Ford</th>\n",
       "      <th>company_Hindustan</th>\n",
       "      <th>...</th>\n",
       "      <th>name_Volkswagen Polo Highline</th>\n",
       "      <th>name_Volkswagen Polo Highline1.2L</th>\n",
       "      <th>name_Volkswagen Polo Trendline</th>\n",
       "      <th>name_Volkswagen Vento Comfortline</th>\n",
       "      <th>name_Volkswagen Vento Highline</th>\n",
       "      <th>name_Volkswagen Vento Konekt</th>\n",
       "      <th>name_Volvo S80 Summum</th>\n",
       "      <th>fuel_type_Diesel</th>\n",
       "      <th>fuel_type_LPG</th>\n",
       "      <th>fuel_type_Petrol</th>\n",
       "    </tr>\n",
       "  </thead>\n",
       "  <tbody>\n",
       "    <tr>\n",
       "      <th>0</th>\n",
       "      <td>2012</td>\n",
       "      <td>1000</td>\n",
       "      <td>0.0</td>\n",
       "      <td>0.0</td>\n",
       "      <td>0.0</td>\n",
       "      <td>0.0</td>\n",
       "      <td>0.0</td>\n",
       "      <td>0.0</td>\n",
       "      <td>0.0</td>\n",
       "      <td>0.0</td>\n",
       "      <td>...</td>\n",
       "      <td>0.0</td>\n",
       "      <td>0.0</td>\n",
       "      <td>0.0</td>\n",
       "      <td>0.0</td>\n",
       "      <td>0.0</td>\n",
       "      <td>0.0</td>\n",
       "      <td>0.0</td>\n",
       "      <td>0.0</td>\n",
       "      <td>0.0</td>\n",
       "      <td>1.0</td>\n",
       "    </tr>\n",
       "  </tbody>\n",
       "</table>\n",
       "<p>1 rows × 284 columns</p>\n",
       "</div>"
      ],
      "text/plain": [
       "   year  kms_driven  company_Audi  company_BMW  company_Chevrolet  \\\n",
       "0  2012        1000           0.0          0.0                0.0   \n",
       "\n",
       "   company_Datsun  company_Fiat  company_Force  company_Ford  \\\n",
       "0             0.0           0.0            0.0           0.0   \n",
       "\n",
       "   company_Hindustan  ...  name_Volkswagen Polo Highline  \\\n",
       "0                0.0  ...                            0.0   \n",
       "\n",
       "   name_Volkswagen Polo Highline1.2L  name_Volkswagen Polo Trendline  \\\n",
       "0                                0.0                             0.0   \n",
       "\n",
       "   name_Volkswagen Vento Comfortline  name_Volkswagen Vento Highline  \\\n",
       "0                                0.0                             0.0   \n",
       "\n",
       "   name_Volkswagen Vento Konekt  name_Volvo S80 Summum  fuel_type_Diesel  \\\n",
       "0                           0.0                    0.0               0.0   \n",
       "\n",
       "   fuel_type_LPG  fuel_type_Petrol  \n",
       "0            0.0               1.0  \n",
       "\n",
       "[1 rows x 284 columns]"
      ]
     },
     "execution_count": 24,
     "metadata": {},
     "output_type": "execute_result"
    }
   ],
   "source": [
    "\n",
    "final_df = pd.concat([input_df.drop(['name','company','fuel_type'],axis=1),ohe_company_df,ohe_name_df,ohe_fuel_type_df],axis=1)\n",
    "final_df\n"
   ]
  },
  {
   "cell_type": "code",
   "execution_count": 28,
   "metadata": {},
   "outputs": [
    {
     "name": "stderr",
     "output_type": "stream",
     "text": [
      "c:\\Users\\iamda\\OneDrive\\Desktop\\ProjectNorm\\venv\\lib\\site-packages\\sklearn\\utils\\validation.py:2732: UserWarning: X has feature names, but StandardScaler was fitted without feature names\n",
      "  warnings.warn(\n"
     ]
    },
    {
     "data": {
      "text/plain": [
       "np.float64(1010400.676834364)"
      ]
     },
     "execution_count": 28,
     "metadata": {},
     "output_type": "execute_result"
    }
   ],
   "source": [
    "from sklearn.metrics import r2_score\n",
    "\n",
    "final_df_scaler = scaler.transform(final_df)\n",
    "pred = linear.predict(final_df_scaler)\n",
    "\n",
    "pred[0]\n",
    "\n"
   ]
  },
  {
   "cell_type": "code",
   "execution_count": 31,
   "metadata": {},
   "outputs": [
    {
     "name": "stderr",
     "output_type": "stream",
     "text": [
      "c:\\Users\\iamda\\OneDrive\\Desktop\\ProjectNorm\\venv\\lib\\site-packages\\sklearn\\utils\\validation.py:2739: UserWarning: X does not have valid feature names, but OneHotEncoder was fitted with feature names\n",
      "  warnings.warn(\n"
     ]
    },
    {
     "data": {
      "text/html": [
       "<div>\n",
       "<style scoped>\n",
       "    .dataframe tbody tr th:only-of-type {\n",
       "        vertical-align: middle;\n",
       "    }\n",
       "\n",
       "    .dataframe tbody tr th {\n",
       "        vertical-align: top;\n",
       "    }\n",
       "\n",
       "    .dataframe thead th {\n",
       "        text-align: right;\n",
       "    }\n",
       "</style>\n",
       "<table border=\"1\" class=\"dataframe\">\n",
       "  <thead>\n",
       "    <tr style=\"text-align: right;\">\n",
       "      <th></th>\n",
       "      <th>name_Audi A3 Cabriolet</th>\n",
       "      <th>name_Audi A4 1.8</th>\n",
       "      <th>name_Audi A4 2.0</th>\n",
       "      <th>name_Audi A6 2.0</th>\n",
       "      <th>name_Audi A8</th>\n",
       "      <th>name_Audi Q3 2.0</th>\n",
       "      <th>name_Audi Q5 2.0</th>\n",
       "      <th>name_Audi Q7</th>\n",
       "      <th>name_BMW 3 Series</th>\n",
       "      <th>name_BMW 5 Series</th>\n",
       "      <th>...</th>\n",
       "      <th>name_Volkswagen Passat Diesel</th>\n",
       "      <th>name_Volkswagen Polo</th>\n",
       "      <th>name_Volkswagen Polo Comfortline</th>\n",
       "      <th>name_Volkswagen Polo Highline</th>\n",
       "      <th>name_Volkswagen Polo Highline1.2L</th>\n",
       "      <th>name_Volkswagen Polo Trendline</th>\n",
       "      <th>name_Volkswagen Vento Comfortline</th>\n",
       "      <th>name_Volkswagen Vento Highline</th>\n",
       "      <th>name_Volkswagen Vento Konekt</th>\n",
       "      <th>name_Volvo S80 Summum</th>\n",
       "    </tr>\n",
       "  </thead>\n",
       "  <tbody>\n",
       "    <tr>\n",
       "      <th>0</th>\n",
       "      <td>0.0</td>\n",
       "      <td>0.0</td>\n",
       "      <td>0.0</td>\n",
       "      <td>0.0</td>\n",
       "      <td>0.0</td>\n",
       "      <td>0.0</td>\n",
       "      <td>0.0</td>\n",
       "      <td>0.0</td>\n",
       "      <td>0.0</td>\n",
       "      <td>0.0</td>\n",
       "      <td>...</td>\n",
       "      <td>0.0</td>\n",
       "      <td>0.0</td>\n",
       "      <td>0.0</td>\n",
       "      <td>0.0</td>\n",
       "      <td>0.0</td>\n",
       "      <td>0.0</td>\n",
       "      <td>0.0</td>\n",
       "      <td>0.0</td>\n",
       "      <td>0.0</td>\n",
       "      <td>0.0</td>\n",
       "    </tr>\n",
       "  </tbody>\n",
       "</table>\n",
       "<p>1 rows × 254 columns</p>\n",
       "</div>"
      ],
      "text/plain": [
       "   name_Audi A3 Cabriolet  name_Audi A4 1.8  name_Audi A4 2.0  \\\n",
       "0                     0.0               0.0               0.0   \n",
       "\n",
       "   name_Audi A6 2.0  name_Audi A8  name_Audi Q3 2.0  name_Audi Q5 2.0  \\\n",
       "0               0.0           0.0               0.0               0.0   \n",
       "\n",
       "   name_Audi Q7  name_BMW 3 Series  name_BMW 5 Series  ...  \\\n",
       "0           0.0                0.0                0.0  ...   \n",
       "\n",
       "   name_Volkswagen Passat Diesel  name_Volkswagen Polo  \\\n",
       "0                            0.0                   0.0   \n",
       "\n",
       "   name_Volkswagen Polo Comfortline  name_Volkswagen Polo Highline  \\\n",
       "0                               0.0                            0.0   \n",
       "\n",
       "   name_Volkswagen Polo Highline1.2L  name_Volkswagen Polo Trendline  \\\n",
       "0                                0.0                             0.0   \n",
       "\n",
       "   name_Volkswagen Vento Comfortline  name_Volkswagen Vento Highline  \\\n",
       "0                                0.0                             0.0   \n",
       "\n",
       "   name_Volkswagen Vento Konekt  name_Volvo S80 Summum  \n",
       "0                           0.0                    0.0  \n",
       "\n",
       "[1 rows x 254 columns]"
      ]
     },
     "execution_count": 31,
     "metadata": {},
     "output_type": "execute_result"
    }
   ],
   "source": [
    "ohe_company_un = ohe_company.transform([[input_data['company']]]).toarray()\n",
    "ohe_company_df = pd.DataFrame(ohe_company_un,columns=ohe_company.get_feature_names_out(['company']))\n",
    "ohe_name_df"
   ]
  },
  {
   "cell_type": "code",
   "execution_count": 34,
   "metadata": {},
   "outputs": [
    {
     "data": {
      "text/plain": [
       "array(['company_Audi', 'company_BMW', 'company_Chevrolet',\n",
       "       'company_Datsun', 'company_Fiat', 'company_Force', 'company_Ford',\n",
       "       'company_Hindustan', 'company_Honda', 'company_Hyundai',\n",
       "       'company_Jaguar', 'company_Jeep', 'company_Land',\n",
       "       'company_Mahindra', 'company_Maruti', 'company_Mercedes',\n",
       "       'company_Mini', 'company_Mitsubishi', 'company_Nissan',\n",
       "       'company_Renault', 'company_Skoda', 'company_Tata',\n",
       "       'company_Toyota', 'company_Volkswagen', 'company_Volvo'],\n",
       "      dtype=object)"
      ]
     },
     "execution_count": 34,
     "metadata": {},
     "output_type": "execute_result"
    }
   ],
   "source": [
    "ohe_company.get_feature_names_out(['company'])"
   ]
  },
  {
   "cell_type": "code",
   "execution_count": null,
   "metadata": {},
   "outputs": [],
   "source": []
  }
 ],
 "metadata": {
  "kernelspec": {
   "display_name": "venv",
   "language": "python",
   "name": "python3"
  },
  "language_info": {
   "codemirror_mode": {
    "name": "ipython",
    "version": 3
   },
   "file_extension": ".py",
   "mimetype": "text/x-python",
   "name": "python",
   "nbconvert_exporter": "python",
   "pygments_lexer": "ipython3",
   "version": "3.10.0"
  }
 },
 "nbformat": 4,
 "nbformat_minor": 2
}
